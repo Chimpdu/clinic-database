{
 "cells": [
  {
   "cell_type": "code",
   "execution_count": 3,
   "id": "61ad87ed",
   "metadata": {},
   "outputs": [],
   "source": [
    "import tkinter as tk\n",
    "from tkinter import messagebox\n"
   ]
  },
  {
   "cell_type": "code",
   "execution_count": 4,
   "id": "874e2562",
   "metadata": {},
   "outputs": [],
   "source": [
    "# Dummy user data for demonstration\n",
    "users = {\n",
    "    \"admin\": {\"password\": \"admin123\", \"role\": \"super\"},\n",
    "    \"user1\": {\"password\": \"user123\", \"role\": \"normal\"}\n",
    "}\n"
   ]
  },
  {
   "cell_type": "code",
   "execution_count": 5,
   "id": "776535b1",
   "metadata": {},
   "outputs": [],
   "source": [
    "def login():\n",
    "    username = entry_username.get()\n",
    "    password = entry_password.get()\n",
    "    \n",
    "    if username in users and users[username][\"password\"] == password:\n",
    "        role = users[username][\"role\"]\n",
    "        messagebox.showinfo(\"Login Successful\", f\"Welcome, {username}!\")\n",
    "        root.destroy()  # Close the login window\n",
    "        open_main_interface(role)  # Open the main interface based on role\n",
    "    else:\n",
    "        messagebox.showerror(\"Login Failed\", \"Invalid credentials. Please try again.\")\n",
    "\n",
    "def open_main_interface(role):\n",
    "    main_window = tk.Tk()\n",
    "    main_window.title(\"Main Interface\")\n",
    "    main_window.geometry(\"400x300\")\n",
    "\n",
    "    if role == \"super\":\n",
    "        label = tk.Label(main_window, text=\"Super User Interface\")\n",
    "        label.pack(pady=10)\n",
    "        # Add buttons for editing data, etc.\n",
    "    else:\n",
    "        label = tk.Label(main_window, text=\"Normal User Interface\")\n",
    "        label.pack(pady=10)\n",
    "        # Add buttons for viewing data only\n",
    "\n",
    "    main_window.mainloop()\n"
   ]
  },
  {
   "cell_type": "code",
   "execution_count": null,
   "id": "ad2620fb",
   "metadata": {},
   "outputs": [],
   "source": [
    "\n",
    "# Create the login window\n",
    "root = tk.Tk()\n",
    "root.title(\"Login\")\n",
    "root.geometry(\"300x200\")\n",
    "\n",
    "# Username label and entry\n",
    "label_username = tk.Label(root, text=\"Username:\")\n",
    "label_username.pack(pady=5)\n",
    "entry_username = tk.Entry(root)\n",
    "entry_username.pack(pady=5)\n",
    "\n",
    "# Password label and entry\n",
    "label_password = tk.Label(root, text=\"Password:\")\n",
    "label_password.pack(pady=5)\n",
    "entry_password = tk.Entry(root, show=\"*\")\n",
    "entry_password.pack(pady=5)\n",
    "\n",
    "# Login button\n",
    "login_button = tk.Button(root, text=\"Login\", command=login)\n",
    "login_button.pack(pady=20)\n",
    "\n",
    "# Run the application\n",
    "root.mainloop()"
   ]
  }
 ],
 "metadata": {
  "kernelspec": {
   "display_name": "ux",
   "language": "python",
   "name": "python3"
  },
  "language_info": {
   "codemirror_mode": {
    "name": "ipython",
    "version": 3
   },
   "file_extension": ".py",
   "mimetype": "text/x-python",
   "name": "python",
   "nbconvert_exporter": "python",
   "pygments_lexer": "ipython3",
   "version": "3.13.7"
  }
 },
 "nbformat": 4,
 "nbformat_minor": 5
}
